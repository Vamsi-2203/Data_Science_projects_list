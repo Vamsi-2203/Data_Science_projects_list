{
 "cells": [
  {
   "cell_type": "markdown",
   "id": "d340be47-8555-4f2d-a879-75de8fad4c6e",
   "metadata": {},
   "source": [
    "# World Wide Cost of Living Project Using Linear Regression"
   ]
  },
  {
   "cell_type": "code",
   "execution_count": 1,
   "id": "c9f79fda-c4d5-4097-80d6-5462e7576275",
   "metadata": {},
   "outputs": [],
   "source": [
    "import numpy as np\n",
    "import pandas as pd\n",
    "import matplotlib.pyplot as plt\n",
    "import seaborn as sns\n"
   ]
  },
  {
   "cell_type": "code",
   "execution_count": 2,
   "id": "e605af54-3b4f-4d6a-846c-80038e4d4812",
   "metadata": {},
   "outputs": [],
   "source": [
    "data = pd.read_csv(\"cost_of_living.csv\")"
   ]
  },
  {
   "cell_type": "code",
   "execution_count": 3,
   "id": "c76c5684-3f1d-4f0e-97c1-1dc2be560424",
   "metadata": {},
   "outputs": [
    {
     "data": {
      "text/html": [
       "<div>\n",
       "<style scoped>\n",
       "    .dataframe tbody tr th:only-of-type {\n",
       "        vertical-align: middle;\n",
       "    }\n",
       "\n",
       "    .dataframe tbody tr th {\n",
       "        vertical-align: top;\n",
       "    }\n",
       "\n",
       "    .dataframe thead th {\n",
       "        text-align: right;\n",
       "    }\n",
       "</style>\n",
       "<table border=\"1\" class=\"dataframe\">\n",
       "  <thead>\n",
       "    <tr style=\"text-align: right;\">\n",
       "      <th></th>\n",
       "      <th>Country</th>\n",
       "      <th>Cost of Living Index</th>\n",
       "      <th>Rent Index</th>\n",
       "      <th>Cost of Living Plus Rent Index</th>\n",
       "      <th>Groceries Index</th>\n",
       "      <th>Restaurant Price Index</th>\n",
       "      <th>Local Purchasing Power Index</th>\n",
       "    </tr>\n",
       "  </thead>\n",
       "  <tbody>\n",
       "    <tr>\n",
       "      <th>0</th>\n",
       "      <td>Switzerland</td>\n",
       "      <td>101.1</td>\n",
       "      <td>46.5</td>\n",
       "      <td>74.9</td>\n",
       "      <td>109.1</td>\n",
       "      <td>97.0</td>\n",
       "      <td>158.7</td>\n",
       "    </tr>\n",
       "    <tr>\n",
       "      <th>1</th>\n",
       "      <td>Bahamas</td>\n",
       "      <td>85.0</td>\n",
       "      <td>36.7</td>\n",
       "      <td>61.8</td>\n",
       "      <td>81.6</td>\n",
       "      <td>83.3</td>\n",
       "      <td>54.6</td>\n",
       "    </tr>\n",
       "    <tr>\n",
       "      <th>2</th>\n",
       "      <td>Iceland</td>\n",
       "      <td>83.0</td>\n",
       "      <td>39.2</td>\n",
       "      <td>62.0</td>\n",
       "      <td>88.4</td>\n",
       "      <td>86.8</td>\n",
       "      <td>120.3</td>\n",
       "    </tr>\n",
       "    <tr>\n",
       "      <th>3</th>\n",
       "      <td>Singapore</td>\n",
       "      <td>76.7</td>\n",
       "      <td>67.2</td>\n",
       "      <td>72.1</td>\n",
       "      <td>74.6</td>\n",
       "      <td>50.4</td>\n",
       "      <td>111.1</td>\n",
       "    </tr>\n",
       "    <tr>\n",
       "      <th>4</th>\n",
       "      <td>Barbados</td>\n",
       "      <td>76.6</td>\n",
       "      <td>19.0</td>\n",
       "      <td>48.9</td>\n",
       "      <td>80.8</td>\n",
       "      <td>69.4</td>\n",
       "      <td>43.5</td>\n",
       "    </tr>\n",
       "  </tbody>\n",
       "</table>\n",
       "</div>"
      ],
      "text/plain": [
       "       Country  Cost of Living Index  Rent Index  \\\n",
       "0  Switzerland                 101.1        46.5   \n",
       "1      Bahamas                  85.0        36.7   \n",
       "2      Iceland                  83.0        39.2   \n",
       "3    Singapore                  76.7        67.2   \n",
       "4     Barbados                  76.6        19.0   \n",
       "\n",
       "   Cost of Living Plus Rent Index  Groceries Index  Restaurant Price Index  \\\n",
       "0                            74.9            109.1                    97.0   \n",
       "1                            61.8             81.6                    83.3   \n",
       "2                            62.0             88.4                    86.8   \n",
       "3                            72.1             74.6                    50.4   \n",
       "4                            48.9             80.8                    69.4   \n",
       "\n",
       "   Local Purchasing Power Index  \n",
       "0                         158.7  \n",
       "1                          54.6  \n",
       "2                         120.3  \n",
       "3                         111.1  \n",
       "4                          43.5  "
      ]
     },
     "execution_count": 3,
     "metadata": {},
     "output_type": "execute_result"
    }
   ],
   "source": [
    "data.head()"
   ]
  },
  {
   "cell_type": "code",
   "execution_count": 4,
   "id": "7cafbb3b-dd3d-4208-8fb2-210710794bac",
   "metadata": {},
   "outputs": [
    {
     "data": {
      "text/html": [
       "<div>\n",
       "<style scoped>\n",
       "    .dataframe tbody tr th:only-of-type {\n",
       "        vertical-align: middle;\n",
       "    }\n",
       "\n",
       "    .dataframe tbody tr th {\n",
       "        vertical-align: top;\n",
       "    }\n",
       "\n",
       "    .dataframe thead th {\n",
       "        text-align: right;\n",
       "    }\n",
       "</style>\n",
       "<table border=\"1\" class=\"dataframe\">\n",
       "  <thead>\n",
       "    <tr style=\"text-align: right;\">\n",
       "      <th></th>\n",
       "      <th>Country</th>\n",
       "      <th>Cost of Living Index</th>\n",
       "      <th>Rent Index</th>\n",
       "      <th>Cost of Living Plus Rent Index</th>\n",
       "      <th>Groceries Index</th>\n",
       "      <th>Restaurant Price Index</th>\n",
       "      <th>Local Purchasing Power Index</th>\n",
       "    </tr>\n",
       "  </thead>\n",
       "  <tbody>\n",
       "    <tr>\n",
       "      <th>116</th>\n",
       "      <td>Bangladesh</td>\n",
       "      <td>22.5</td>\n",
       "      <td>2.4</td>\n",
       "      <td>12.8</td>\n",
       "      <td>25.7</td>\n",
       "      <td>12.8</td>\n",
       "      <td>33.1</td>\n",
       "    </tr>\n",
       "    <tr>\n",
       "      <th>117</th>\n",
       "      <td>India</td>\n",
       "      <td>21.2</td>\n",
       "      <td>5.6</td>\n",
       "      <td>13.7</td>\n",
       "      <td>23.8</td>\n",
       "      <td>15.1</td>\n",
       "      <td>82.6</td>\n",
       "    </tr>\n",
       "    <tr>\n",
       "      <th>118</th>\n",
       "      <td>Egypt</td>\n",
       "      <td>21.0</td>\n",
       "      <td>3.7</td>\n",
       "      <td>12.7</td>\n",
       "      <td>21.2</td>\n",
       "      <td>16.2</td>\n",
       "      <td>20.0</td>\n",
       "    </tr>\n",
       "    <tr>\n",
       "      <th>119</th>\n",
       "      <td>Libya</td>\n",
       "      <td>20.4</td>\n",
       "      <td>4.3</td>\n",
       "      <td>12.7</td>\n",
       "      <td>22.2</td>\n",
       "      <td>15.2</td>\n",
       "      <td>42.0</td>\n",
       "    </tr>\n",
       "    <tr>\n",
       "      <th>120</th>\n",
       "      <td>Pakistan</td>\n",
       "      <td>18.8</td>\n",
       "      <td>2.8</td>\n",
       "      <td>11.1</td>\n",
       "      <td>17.5</td>\n",
       "      <td>12.9</td>\n",
       "      <td>29.1</td>\n",
       "    </tr>\n",
       "  </tbody>\n",
       "</table>\n",
       "</div>"
      ],
      "text/plain": [
       "        Country  Cost of Living Index  Rent Index  \\\n",
       "116  Bangladesh                  22.5         2.4   \n",
       "117       India                  21.2         5.6   \n",
       "118       Egypt                  21.0         3.7   \n",
       "119       Libya                  20.4         4.3   \n",
       "120    Pakistan                  18.8         2.8   \n",
       "\n",
       "     Cost of Living Plus Rent Index  Groceries Index  Restaurant Price Index  \\\n",
       "116                            12.8             25.7                    12.8   \n",
       "117                            13.7             23.8                    15.1   \n",
       "118                            12.7             21.2                    16.2   \n",
       "119                            12.7             22.2                    15.2   \n",
       "120                            11.1             17.5                    12.9   \n",
       "\n",
       "     Local Purchasing Power Index  \n",
       "116                          33.1  \n",
       "117                          82.6  \n",
       "118                          20.0  \n",
       "119                          42.0  \n",
       "120                          29.1  "
      ]
     },
     "execution_count": 4,
     "metadata": {},
     "output_type": "execute_result"
    }
   ],
   "source": [
    "data.tail()"
   ]
  },
  {
   "cell_type": "code",
   "execution_count": 5,
   "id": "6118902f-8801-4b78-a097-d5b956be0a71",
   "metadata": {},
   "outputs": [
    {
     "name": "stdout",
     "output_type": "stream",
     "text": [
      "<class 'pandas.core.frame.DataFrame'>\n",
      "RangeIndex: 121 entries, 0 to 120\n",
      "Data columns (total 7 columns):\n",
      " #   Column                          Non-Null Count  Dtype  \n",
      "---  ------                          --------------  -----  \n",
      " 0   Country                         121 non-null    object \n",
      " 1   Cost of Living Index            121 non-null    float64\n",
      " 2   Rent Index                      121 non-null    float64\n",
      " 3   Cost of Living Plus Rent Index  121 non-null    float64\n",
      " 4   Groceries Index                 121 non-null    float64\n",
      " 5   Restaurant Price Index          121 non-null    float64\n",
      " 6   Local Purchasing Power Index    121 non-null    float64\n",
      "dtypes: float64(6), object(1)\n",
      "memory usage: 6.7+ KB\n"
     ]
    }
   ],
   "source": [
    "data.info()"
   ]
  },
  {
   "cell_type": "code",
   "execution_count": 6,
   "id": "5ad627ce-4e80-4ef6-8e8a-97e5451163c4",
   "metadata": {},
   "outputs": [
    {
     "data": {
      "text/plain": [
       "Country                           0\n",
       "Cost of Living Index              0\n",
       "Rent Index                        0\n",
       "Cost of Living Plus Rent Index    0\n",
       "Groceries Index                   0\n",
       "Restaurant Price Index            0\n",
       "Local Purchasing Power Index      0\n",
       "dtype: int64"
      ]
     },
     "execution_count": 6,
     "metadata": {},
     "output_type": "execute_result"
    }
   ],
   "source": [
    "data.isna().sum()"
   ]
  },
  {
   "cell_type": "code",
   "execution_count": 7,
   "id": "0ef85c69-47b7-4e2c-98b5-6195769457bd",
   "metadata": {},
   "outputs": [
    {
     "data": {
      "text/plain": [
       "Country                           False\n",
       "Cost of Living Index              False\n",
       "Rent Index                        False\n",
       "Cost of Living Plus Rent Index    False\n",
       "Groceries Index                   False\n",
       "Restaurant Price Index            False\n",
       "Local Purchasing Power Index      False\n",
       "dtype: bool"
      ]
     },
     "execution_count": 7,
     "metadata": {},
     "output_type": "execute_result"
    }
   ],
   "source": [
    "data.isnull().any()"
   ]
  },
  {
   "cell_type": "code",
   "execution_count": 8,
   "id": "6a5f893e-9e90-41e4-b23e-48e3c637b152",
   "metadata": {},
   "outputs": [
    {
     "data": {
      "text/html": [
       "<div>\n",
       "<style scoped>\n",
       "    .dataframe tbody tr th:only-of-type {\n",
       "        vertical-align: middle;\n",
       "    }\n",
       "\n",
       "    .dataframe tbody tr th {\n",
       "        vertical-align: top;\n",
       "    }\n",
       "\n",
       "    .dataframe thead th {\n",
       "        text-align: right;\n",
       "    }\n",
       "</style>\n",
       "<table border=\"1\" class=\"dataframe\">\n",
       "  <thead>\n",
       "    <tr style=\"text-align: right;\">\n",
       "      <th></th>\n",
       "      <th>Cost of Living Index</th>\n",
       "      <th>Rent Index</th>\n",
       "      <th>Cost of Living Plus Rent Index</th>\n",
       "      <th>Groceries Index</th>\n",
       "      <th>Restaurant Price Index</th>\n",
       "      <th>Local Purchasing Power Index</th>\n",
       "    </tr>\n",
       "  </thead>\n",
       "  <tbody>\n",
       "    <tr>\n",
       "      <th>count</th>\n",
       "      <td>121.000000</td>\n",
       "      <td>121.000000</td>\n",
       "      <td>121.000000</td>\n",
       "      <td>121.000000</td>\n",
       "      <td>121.000000</td>\n",
       "      <td>121.000000</td>\n",
       "    </tr>\n",
       "    <tr>\n",
       "      <th>mean</th>\n",
       "      <td>43.555372</td>\n",
       "      <td>16.052893</td>\n",
       "      <td>30.357851</td>\n",
       "      <td>44.228926</td>\n",
       "      <td>36.471074</td>\n",
       "      <td>65.094215</td>\n",
       "    </tr>\n",
       "    <tr>\n",
       "      <th>std</th>\n",
       "      <td>16.147574</td>\n",
       "      <td>11.412267</td>\n",
       "      <td>13.263721</td>\n",
       "      <td>17.055109</td>\n",
       "      <td>18.258110</td>\n",
       "      <td>39.569094</td>\n",
       "    </tr>\n",
       "    <tr>\n",
       "      <th>min</th>\n",
       "      <td>18.800000</td>\n",
       "      <td>2.400000</td>\n",
       "      <td>11.100000</td>\n",
       "      <td>17.500000</td>\n",
       "      <td>12.800000</td>\n",
       "      <td>2.300000</td>\n",
       "    </tr>\n",
       "    <tr>\n",
       "      <th>25%</th>\n",
       "      <td>30.200000</td>\n",
       "      <td>8.500000</td>\n",
       "      <td>19.800000</td>\n",
       "      <td>31.600000</td>\n",
       "      <td>21.600000</td>\n",
       "      <td>34.800000</td>\n",
       "    </tr>\n",
       "    <tr>\n",
       "      <th>50%</th>\n",
       "      <td>39.500000</td>\n",
       "      <td>12.400000</td>\n",
       "      <td>27.000000</td>\n",
       "      <td>40.500000</td>\n",
       "      <td>33.100000</td>\n",
       "      <td>50.600000</td>\n",
       "    </tr>\n",
       "    <tr>\n",
       "      <th>75%</th>\n",
       "      <td>52.800000</td>\n",
       "      <td>20.100000</td>\n",
       "      <td>37.000000</td>\n",
       "      <td>53.700000</td>\n",
       "      <td>47.200000</td>\n",
       "      <td>99.400000</td>\n",
       "    </tr>\n",
       "    <tr>\n",
       "      <th>max</th>\n",
       "      <td>101.100000</td>\n",
       "      <td>67.200000</td>\n",
       "      <td>74.900000</td>\n",
       "      <td>109.100000</td>\n",
       "      <td>97.000000</td>\n",
       "      <td>182.500000</td>\n",
       "    </tr>\n",
       "  </tbody>\n",
       "</table>\n",
       "</div>"
      ],
      "text/plain": [
       "       Cost of Living Index  Rent Index  Cost of Living Plus Rent Index  \\\n",
       "count            121.000000  121.000000                      121.000000   \n",
       "mean              43.555372   16.052893                       30.357851   \n",
       "std               16.147574   11.412267                       13.263721   \n",
       "min               18.800000    2.400000                       11.100000   \n",
       "25%               30.200000    8.500000                       19.800000   \n",
       "50%               39.500000   12.400000                       27.000000   \n",
       "75%               52.800000   20.100000                       37.000000   \n",
       "max              101.100000   67.200000                       74.900000   \n",
       "\n",
       "       Groceries Index  Restaurant Price Index  Local Purchasing Power Index  \n",
       "count       121.000000              121.000000                    121.000000  \n",
       "mean         44.228926               36.471074                     65.094215  \n",
       "std          17.055109               18.258110                     39.569094  \n",
       "min          17.500000               12.800000                      2.300000  \n",
       "25%          31.600000               21.600000                     34.800000  \n",
       "50%          40.500000               33.100000                     50.600000  \n",
       "75%          53.700000               47.200000                     99.400000  \n",
       "max         109.100000               97.000000                    182.500000  "
      ]
     },
     "execution_count": 8,
     "metadata": {},
     "output_type": "execute_result"
    }
   ],
   "source": [
    "data.describe()"
   ]
  },
  {
   "cell_type": "code",
   "execution_count": 9,
   "id": "1b74defc-0d75-4196-835f-b49b295e9e65",
   "metadata": {},
   "outputs": [
    {
     "data": {
      "text/html": [
       "<div>\n",
       "<style scoped>\n",
       "    .dataframe tbody tr th:only-of-type {\n",
       "        vertical-align: middle;\n",
       "    }\n",
       "\n",
       "    .dataframe tbody tr th {\n",
       "        vertical-align: top;\n",
       "    }\n",
       "\n",
       "    .dataframe thead th {\n",
       "        text-align: right;\n",
       "    }\n",
       "</style>\n",
       "<table border=\"1\" class=\"dataframe\">\n",
       "  <thead>\n",
       "    <tr style=\"text-align: right;\">\n",
       "      <th></th>\n",
       "      <th>count</th>\n",
       "      <th>mean</th>\n",
       "      <th>std</th>\n",
       "      <th>min</th>\n",
       "      <th>25%</th>\n",
       "      <th>50%</th>\n",
       "      <th>75%</th>\n",
       "      <th>max</th>\n",
       "    </tr>\n",
       "  </thead>\n",
       "  <tbody>\n",
       "    <tr>\n",
       "      <th>Cost of Living Index</th>\n",
       "      <td>121.0</td>\n",
       "      <td>43.555372</td>\n",
       "      <td>16.147574</td>\n",
       "      <td>18.8</td>\n",
       "      <td>30.2</td>\n",
       "      <td>39.5</td>\n",
       "      <td>52.8</td>\n",
       "      <td>101.1</td>\n",
       "    </tr>\n",
       "    <tr>\n",
       "      <th>Rent Index</th>\n",
       "      <td>121.0</td>\n",
       "      <td>16.052893</td>\n",
       "      <td>11.412267</td>\n",
       "      <td>2.4</td>\n",
       "      <td>8.5</td>\n",
       "      <td>12.4</td>\n",
       "      <td>20.1</td>\n",
       "      <td>67.2</td>\n",
       "    </tr>\n",
       "    <tr>\n",
       "      <th>Cost of Living Plus Rent Index</th>\n",
       "      <td>121.0</td>\n",
       "      <td>30.357851</td>\n",
       "      <td>13.263721</td>\n",
       "      <td>11.1</td>\n",
       "      <td>19.8</td>\n",
       "      <td>27.0</td>\n",
       "      <td>37.0</td>\n",
       "      <td>74.9</td>\n",
       "    </tr>\n",
       "    <tr>\n",
       "      <th>Groceries Index</th>\n",
       "      <td>121.0</td>\n",
       "      <td>44.228926</td>\n",
       "      <td>17.055109</td>\n",
       "      <td>17.5</td>\n",
       "      <td>31.6</td>\n",
       "      <td>40.5</td>\n",
       "      <td>53.7</td>\n",
       "      <td>109.1</td>\n",
       "    </tr>\n",
       "    <tr>\n",
       "      <th>Restaurant Price Index</th>\n",
       "      <td>121.0</td>\n",
       "      <td>36.471074</td>\n",
       "      <td>18.258110</td>\n",
       "      <td>12.8</td>\n",
       "      <td>21.6</td>\n",
       "      <td>33.1</td>\n",
       "      <td>47.2</td>\n",
       "      <td>97.0</td>\n",
       "    </tr>\n",
       "    <tr>\n",
       "      <th>Local Purchasing Power Index</th>\n",
       "      <td>121.0</td>\n",
       "      <td>65.094215</td>\n",
       "      <td>39.569094</td>\n",
       "      <td>2.3</td>\n",
       "      <td>34.8</td>\n",
       "      <td>50.6</td>\n",
       "      <td>99.4</td>\n",
       "      <td>182.5</td>\n",
       "    </tr>\n",
       "  </tbody>\n",
       "</table>\n",
       "</div>"
      ],
      "text/plain": [
       "                                count       mean        std   min   25%   50%  \\\n",
       "Cost of Living Index            121.0  43.555372  16.147574  18.8  30.2  39.5   \n",
       "Rent Index                      121.0  16.052893  11.412267   2.4   8.5  12.4   \n",
       "Cost of Living Plus Rent Index  121.0  30.357851  13.263721  11.1  19.8  27.0   \n",
       "Groceries Index                 121.0  44.228926  17.055109  17.5  31.6  40.5   \n",
       "Restaurant Price Index          121.0  36.471074  18.258110  12.8  21.6  33.1   \n",
       "Local Purchasing Power Index    121.0  65.094215  39.569094   2.3  34.8  50.6   \n",
       "\n",
       "                                 75%    max  \n",
       "Cost of Living Index            52.8  101.1  \n",
       "Rent Index                      20.1   67.2  \n",
       "Cost of Living Plus Rent Index  37.0   74.9  \n",
       "Groceries Index                 53.7  109.1  \n",
       "Restaurant Price Index          47.2   97.0  \n",
       "Local Purchasing Power Index    99.4  182.5  "
      ]
     },
     "execution_count": 9,
     "metadata": {},
     "output_type": "execute_result"
    }
   ],
   "source": [
    "data.describe().T"
   ]
  },
  {
   "cell_type": "code",
   "execution_count": 10,
   "id": "82b94312-5f82-4581-a6fc-80ded016f06d",
   "metadata": {},
   "outputs": [
    {
     "data": {
      "text/plain": [
       "Index(['Country', 'Cost of Living Index', 'Rent Index',\n",
       "       'Cost of Living Plus Rent Index', 'Groceries Index',\n",
       "       'Restaurant Price Index', 'Local Purchasing Power Index'],\n",
       "      dtype='object')"
      ]
     },
     "execution_count": 10,
     "metadata": {},
     "output_type": "execute_result"
    }
   ],
   "source": [
    "data.columns"
   ]
  },
  {
   "cell_type": "code",
   "execution_count": 11,
   "id": "54e71461-33e3-4a62-b3ac-206e7fa46298",
   "metadata": {},
   "outputs": [
    {
     "data": {
      "text/plain": [
       "RangeIndex(start=0, stop=121, step=1)"
      ]
     },
     "execution_count": 11,
     "metadata": {},
     "output_type": "execute_result"
    }
   ],
   "source": [
    "data.index"
   ]
  },
  {
   "cell_type": "code",
   "execution_count": 12,
   "id": "d0124952-64fe-4b48-ac74-d64cbfaf5e14",
   "metadata": {},
   "outputs": [],
   "source": [
    "data.index = list(data.index)"
   ]
  },
  {
   "cell_type": "code",
   "execution_count": 13,
   "id": "5fdee5cb-05f7-4db4-b283-c502b786dffa",
   "metadata": {},
   "outputs": [
    {
     "data": {
      "text/plain": [
       "Int64Index([  0,   1,   2,   3,   4,   5,   6,   7,   8,   9,\n",
       "            ...\n",
       "            111, 112, 113, 114, 115, 116, 117, 118, 119, 120],\n",
       "           dtype='int64', length=121)"
      ]
     },
     "execution_count": 13,
     "metadata": {},
     "output_type": "execute_result"
    }
   ],
   "source": [
    "data.index"
   ]
  },
  {
   "cell_type": "code",
   "execution_count": 14,
   "id": "94c142c9-4f47-4786-9fad-826260979a25",
   "metadata": {},
   "outputs": [
    {
     "data": {
      "text/plain": [
       "Switzerland    1\n",
       "Montenegro     1\n",
       "Ghana          1\n",
       "Russia         1\n",
       "Philippines    1\n",
       "              ..\n",
       "Qatar          1\n",
       "Estonia        1\n",
       "Greece         1\n",
       "Bahrain        1\n",
       "Pakistan       1\n",
       "Name: Country, Length: 121, dtype: int64"
      ]
     },
     "execution_count": 14,
     "metadata": {},
     "output_type": "execute_result"
    }
   ],
   "source": [
    "data[\"Country\"].value_counts()"
   ]
  },
  {
   "cell_type": "code",
   "execution_count": 15,
   "id": "bcffc0eb-5fde-4293-9c65-5a255b224cc6",
   "metadata": {},
   "outputs": [
    {
     "data": {
      "text/html": [
       "<div>\n",
       "<style scoped>\n",
       "    .dataframe tbody tr th:only-of-type {\n",
       "        vertical-align: middle;\n",
       "    }\n",
       "\n",
       "    .dataframe tbody tr th {\n",
       "        vertical-align: top;\n",
       "    }\n",
       "\n",
       "    .dataframe thead th {\n",
       "        text-align: right;\n",
       "    }\n",
       "</style>\n",
       "<table border=\"1\" class=\"dataframe\">\n",
       "  <thead>\n",
       "    <tr style=\"text-align: right;\">\n",
       "      <th></th>\n",
       "      <th>Country</th>\n",
       "      <th>Cost of Living Index</th>\n",
       "      <th>Rent Index</th>\n",
       "      <th>Cost of Living Plus Rent Index</th>\n",
       "      <th>Groceries Index</th>\n",
       "      <th>Restaurant Price Index</th>\n",
       "      <th>Local Purchasing Power Index</th>\n",
       "    </tr>\n",
       "  </thead>\n",
       "  <tbody>\n",
       "    <tr>\n",
       "      <th>0</th>\n",
       "      <td>Switzerland</td>\n",
       "      <td>101.1</td>\n",
       "      <td>46.5</td>\n",
       "      <td>74.9</td>\n",
       "      <td>109.1</td>\n",
       "      <td>97.0</td>\n",
       "      <td>158.7</td>\n",
       "    </tr>\n",
       "  </tbody>\n",
       "</table>\n",
       "</div>"
      ],
      "text/plain": [
       "       Country  Cost of Living Index  Rent Index  \\\n",
       "0  Switzerland                 101.1        46.5   \n",
       "\n",
       "   Cost of Living Plus Rent Index  Groceries Index  Restaurant Price Index  \\\n",
       "0                            74.9            109.1                    97.0   \n",
       "\n",
       "   Local Purchasing Power Index  \n",
       "0                         158.7  "
      ]
     },
     "execution_count": 15,
     "metadata": {},
     "output_type": "execute_result"
    }
   ],
   "source": [
    "d = (data[data['Cost of Living Index'] > 90])\n",
    "d"
   ]
  },
  {
   "cell_type": "code",
   "execution_count": 16,
   "id": "71d68ba8-dae1-4791-a589-3b88fa74ba8e",
   "metadata": {},
   "outputs": [
    {
     "data": {
      "text/html": [
       "<div>\n",
       "<style scoped>\n",
       "    .dataframe tbody tr th:only-of-type {\n",
       "        vertical-align: middle;\n",
       "    }\n",
       "\n",
       "    .dataframe tbody tr th {\n",
       "        vertical-align: top;\n",
       "    }\n",
       "\n",
       "    .dataframe thead th {\n",
       "        text-align: right;\n",
       "    }\n",
       "</style>\n",
       "<table border=\"1\" class=\"dataframe\">\n",
       "  <thead>\n",
       "    <tr style=\"text-align: right;\">\n",
       "      <th></th>\n",
       "      <th>Country</th>\n",
       "      <th>Cost of Living Index</th>\n",
       "      <th>Rent Index</th>\n",
       "      <th>Cost of Living Plus Rent Index</th>\n",
       "      <th>Groceries Index</th>\n",
       "      <th>Restaurant Price Index</th>\n",
       "      <th>Local Purchasing Power Index</th>\n",
       "    </tr>\n",
       "  </thead>\n",
       "  <tbody>\n",
       "    <tr>\n",
       "      <th>117</th>\n",
       "      <td>India</td>\n",
       "      <td>21.2</td>\n",
       "      <td>5.6</td>\n",
       "      <td>13.7</td>\n",
       "      <td>23.8</td>\n",
       "      <td>15.1</td>\n",
       "      <td>82.6</td>\n",
       "    </tr>\n",
       "  </tbody>\n",
       "</table>\n",
       "</div>"
      ],
      "text/plain": [
       "    Country  Cost of Living Index  Rent Index  Cost of Living Plus Rent Index  \\\n",
       "117   India                  21.2         5.6                            13.7   \n",
       "\n",
       "     Groceries Index  Restaurant Price Index  Local Purchasing Power Index  \n",
       "117             23.8                    15.1                          82.6  "
      ]
     },
     "execution_count": 16,
     "metadata": {},
     "output_type": "execute_result"
    }
   ],
   "source": [
    "f = (data[data[\"Country\"] == \"India\"])\n",
    "f"
   ]
  },
  {
   "cell_type": "code",
   "execution_count": 17,
   "id": "c069eab9-d277-46d3-8353-546b6eb813f9",
   "metadata": {},
   "outputs": [],
   "source": [
    "# to get top 5 country based on cost of living\n",
    "sorted_df = data.sort_values(by='Cost of Living Index', ascending=False)"
   ]
  },
  {
   "cell_type": "code",
   "execution_count": 18,
   "id": "a9eabad4-5ef0-4313-94d1-72cda3d09716",
   "metadata": {},
   "outputs": [
    {
     "data": {
      "text/html": [
       "<div>\n",
       "<style scoped>\n",
       "    .dataframe tbody tr th:only-of-type {\n",
       "        vertical-align: middle;\n",
       "    }\n",
       "\n",
       "    .dataframe tbody tr th {\n",
       "        vertical-align: top;\n",
       "    }\n",
       "\n",
       "    .dataframe thead th {\n",
       "        text-align: right;\n",
       "    }\n",
       "</style>\n",
       "<table border=\"1\" class=\"dataframe\">\n",
       "  <thead>\n",
       "    <tr style=\"text-align: right;\">\n",
       "      <th></th>\n",
       "      <th>Country</th>\n",
       "      <th>Cost of Living Index</th>\n",
       "      <th>Rent Index</th>\n",
       "      <th>Cost of Living Plus Rent Index</th>\n",
       "      <th>Groceries Index</th>\n",
       "      <th>Restaurant Price Index</th>\n",
       "      <th>Local Purchasing Power Index</th>\n",
       "    </tr>\n",
       "  </thead>\n",
       "  <tbody>\n",
       "    <tr>\n",
       "      <th>0</th>\n",
       "      <td>Switzerland</td>\n",
       "      <td>101.1</td>\n",
       "      <td>46.5</td>\n",
       "      <td>74.9</td>\n",
       "      <td>109.1</td>\n",
       "      <td>97.0</td>\n",
       "      <td>158.7</td>\n",
       "    </tr>\n",
       "    <tr>\n",
       "      <th>1</th>\n",
       "      <td>Bahamas</td>\n",
       "      <td>85.0</td>\n",
       "      <td>36.7</td>\n",
       "      <td>61.8</td>\n",
       "      <td>81.6</td>\n",
       "      <td>83.3</td>\n",
       "      <td>54.6</td>\n",
       "    </tr>\n",
       "    <tr>\n",
       "      <th>2</th>\n",
       "      <td>Iceland</td>\n",
       "      <td>83.0</td>\n",
       "      <td>39.2</td>\n",
       "      <td>62.0</td>\n",
       "      <td>88.4</td>\n",
       "      <td>86.8</td>\n",
       "      <td>120.3</td>\n",
       "    </tr>\n",
       "    <tr>\n",
       "      <th>3</th>\n",
       "      <td>Singapore</td>\n",
       "      <td>76.7</td>\n",
       "      <td>67.2</td>\n",
       "      <td>72.1</td>\n",
       "      <td>74.6</td>\n",
       "      <td>50.4</td>\n",
       "      <td>111.1</td>\n",
       "    </tr>\n",
       "    <tr>\n",
       "      <th>4</th>\n",
       "      <td>Barbados</td>\n",
       "      <td>76.6</td>\n",
       "      <td>19.0</td>\n",
       "      <td>48.9</td>\n",
       "      <td>80.8</td>\n",
       "      <td>69.4</td>\n",
       "      <td>43.5</td>\n",
       "    </tr>\n",
       "  </tbody>\n",
       "</table>\n",
       "</div>"
      ],
      "text/plain": [
       "       Country  Cost of Living Index  Rent Index  \\\n",
       "0  Switzerland                 101.1        46.5   \n",
       "1      Bahamas                  85.0        36.7   \n",
       "2      Iceland                  83.0        39.2   \n",
       "3    Singapore                  76.7        67.2   \n",
       "4     Barbados                  76.6        19.0   \n",
       "\n",
       "   Cost of Living Plus Rent Index  Groceries Index  Restaurant Price Index  \\\n",
       "0                            74.9            109.1                    97.0   \n",
       "1                            61.8             81.6                    83.3   \n",
       "2                            62.0             88.4                    86.8   \n",
       "3                            72.1             74.6                    50.4   \n",
       "4                            48.9             80.8                    69.4   \n",
       "\n",
       "   Local Purchasing Power Index  \n",
       "0                         158.7  \n",
       "1                          54.6  \n",
       "2                         120.3  \n",
       "3                         111.1  \n",
       "4                          43.5  "
      ]
     },
     "execution_count": 18,
     "metadata": {},
     "output_type": "execute_result"
    }
   ],
   "source": [
    "sorted_df.head()"
   ]
  },
  {
   "cell_type": "code",
   "execution_count": 19,
   "id": "54314135-1041-4ddc-872f-38f7ef3793d8",
   "metadata": {},
   "outputs": [
    {
     "data": {
      "text/html": [
       "<div>\n",
       "<style scoped>\n",
       "    .dataframe tbody tr th:only-of-type {\n",
       "        vertical-align: middle;\n",
       "    }\n",
       "\n",
       "    .dataframe tbody tr th {\n",
       "        vertical-align: top;\n",
       "    }\n",
       "\n",
       "    .dataframe thead th {\n",
       "        text-align: right;\n",
       "    }\n",
       "</style>\n",
       "<table border=\"1\" class=\"dataframe\">\n",
       "  <thead>\n",
       "    <tr style=\"text-align: right;\">\n",
       "      <th></th>\n",
       "      <th>Country</th>\n",
       "      <th>Cost of Living Index</th>\n",
       "      <th>Rent Index</th>\n",
       "      <th>Cost of Living Plus Rent Index</th>\n",
       "      <th>Groceries Index</th>\n",
       "      <th>Restaurant Price Index</th>\n",
       "      <th>Local Purchasing Power Index</th>\n",
       "    </tr>\n",
       "  </thead>\n",
       "  <tbody>\n",
       "    <tr>\n",
       "      <th>116</th>\n",
       "      <td>Bangladesh</td>\n",
       "      <td>22.5</td>\n",
       "      <td>2.4</td>\n",
       "      <td>12.8</td>\n",
       "      <td>25.7</td>\n",
       "      <td>12.8</td>\n",
       "      <td>33.1</td>\n",
       "    </tr>\n",
       "    <tr>\n",
       "      <th>117</th>\n",
       "      <td>India</td>\n",
       "      <td>21.2</td>\n",
       "      <td>5.6</td>\n",
       "      <td>13.7</td>\n",
       "      <td>23.8</td>\n",
       "      <td>15.1</td>\n",
       "      <td>82.6</td>\n",
       "    </tr>\n",
       "    <tr>\n",
       "      <th>118</th>\n",
       "      <td>Egypt</td>\n",
       "      <td>21.0</td>\n",
       "      <td>3.7</td>\n",
       "      <td>12.7</td>\n",
       "      <td>21.2</td>\n",
       "      <td>16.2</td>\n",
       "      <td>20.0</td>\n",
       "    </tr>\n",
       "    <tr>\n",
       "      <th>119</th>\n",
       "      <td>Libya</td>\n",
       "      <td>20.4</td>\n",
       "      <td>4.3</td>\n",
       "      <td>12.7</td>\n",
       "      <td>22.2</td>\n",
       "      <td>15.2</td>\n",
       "      <td>42.0</td>\n",
       "    </tr>\n",
       "    <tr>\n",
       "      <th>120</th>\n",
       "      <td>Pakistan</td>\n",
       "      <td>18.8</td>\n",
       "      <td>2.8</td>\n",
       "      <td>11.1</td>\n",
       "      <td>17.5</td>\n",
       "      <td>12.9</td>\n",
       "      <td>29.1</td>\n",
       "    </tr>\n",
       "  </tbody>\n",
       "</table>\n",
       "</div>"
      ],
      "text/plain": [
       "        Country  Cost of Living Index  Rent Index  \\\n",
       "116  Bangladesh                  22.5         2.4   \n",
       "117       India                  21.2         5.6   \n",
       "118       Egypt                  21.0         3.7   \n",
       "119       Libya                  20.4         4.3   \n",
       "120    Pakistan                  18.8         2.8   \n",
       "\n",
       "     Cost of Living Plus Rent Index  Groceries Index  Restaurant Price Index  \\\n",
       "116                            12.8             25.7                    12.8   \n",
       "117                            13.7             23.8                    15.1   \n",
       "118                            12.7             21.2                    16.2   \n",
       "119                            12.7             22.2                    15.2   \n",
       "120                            11.1             17.5                    12.9   \n",
       "\n",
       "     Local Purchasing Power Index  \n",
       "116                          33.1  \n",
       "117                          82.6  \n",
       "118                          20.0  \n",
       "119                          42.0  \n",
       "120                          29.1  "
      ]
     },
     "execution_count": 19,
     "metadata": {},
     "output_type": "execute_result"
    }
   ],
   "source": [
    "sorted_df.tail()"
   ]
  },
  {
   "cell_type": "code",
   "execution_count": 41,
   "id": "16ded8ed-a539-4e0c-b2d0-8757b7b43eda",
   "metadata": {},
   "outputs": [],
   "source": [
    "from sklearn.preprocessing import LabelEncoder"
   ]
  },
  {
   "cell_type": "code",
   "execution_count": 45,
   "id": "19e99f89-f6bf-472f-9ca7-9cedcb92c2a6",
   "metadata": {},
   "outputs": [],
   "source": [
    "# Initialize the label encoder\n",
    "label_encoder = LabelEncoder()\n",
    "# Fit and transform the data\n",
    "data[\"Country_Value\"] = label_encoder.fit_transform(data[\"Country\"])\n",
    "\n"
   ]
  },
  {
   "cell_type": "code",
   "execution_count": 47,
   "id": "217d0d3d-bdb8-43ac-a775-c7adddaa6799",
   "metadata": {},
   "outputs": [],
   "source": [
    "data.drop(columns= \"Country\",axis=1, inplace=True)\n"
   ]
  },
  {
   "cell_type": "code",
   "execution_count": 48,
   "id": "659f49c9-4bfd-4b7e-af5d-0e3e1e95cacd",
   "metadata": {},
   "outputs": [
    {
     "name": "stdout",
     "output_type": "stream",
     "text": [
      "     Rent Index  Cost of Living Plus Rent Index  Groceries Index  \\\n",
      "0          46.5                            74.9            109.1   \n",
      "1          36.7                            61.8             81.6   \n",
      "2          39.2                            62.0             88.4   \n",
      "3          67.2                            72.1             74.6   \n",
      "4          19.0                            48.9             80.8   \n",
      "..          ...                             ...              ...   \n",
      "116         2.4                            12.8             25.7   \n",
      "117         5.6                            13.7             23.8   \n",
      "118         3.7                            12.7             21.2   \n",
      "119         4.3                            12.7             22.2   \n",
      "120         2.8                            11.1             17.5   \n",
      "\n",
      "     Restaurant Price Index  Local Purchasing Power Index  Country_Value  \n",
      "0                      97.0                         158.7            103  \n",
      "1                      83.3                          54.6              7  \n",
      "2                      86.8                         120.3             45  \n",
      "3                      50.4                         111.1             95  \n",
      "4                      69.4                          43.5             10  \n",
      "..                      ...                           ...            ...  \n",
      "116                    12.8                          33.1              9  \n",
      "117                    15.1                          82.6             46  \n",
      "118                    16.2                          20.0             32  \n",
      "119                    15.2                          42.0             63  \n",
      "120                    12.9                          29.1             81  \n",
      "\n",
      "[121 rows x 6 columns]\n"
     ]
    }
   ],
   "source": [
    "X = data.drop(columns= \"Cost of Living Index\")\n",
    "print(X)"
   ]
  },
  {
   "cell_type": "code",
   "execution_count": 49,
   "id": "7de6cc03-3946-42f1-bb3a-7a0a2cf224d0",
   "metadata": {},
   "outputs": [
    {
     "name": "stdout",
     "output_type": "stream",
     "text": [
      "0      101.1\n",
      "1       85.0\n",
      "2       83.0\n",
      "3       76.7\n",
      "4       76.6\n",
      "       ...  \n",
      "116     22.5\n",
      "117     21.2\n",
      "118     21.0\n",
      "119     20.4\n",
      "120     18.8\n",
      "Name: Cost of Living Index, Length: 121, dtype: float64\n"
     ]
    }
   ],
   "source": [
    "y =data[\"Cost of Living Index\"]\n",
    "print(y)"
   ]
  },
  {
   "cell_type": "code",
   "execution_count": 50,
   "id": "eb7b8cee-7a35-4a0f-a09d-1992a26a61bf",
   "metadata": {},
   "outputs": [],
   "source": [
    "from sklearn.linear_model import LinearRegression\n",
    "from sklearn.model_selection import train_test_split\n",
    "from sklearn.metrics import mean_squared_error, r2_score"
   ]
  },
  {
   "cell_type": "code",
   "execution_count": 57,
   "id": "0ee19667-a3f0-44a2-891c-0568a2a80a5f",
   "metadata": {},
   "outputs": [
    {
     "name": "stdout",
     "output_type": "stream",
     "text": [
      "MSE: 0.00513114875724955\n",
      "RMSE: 0.07163203722671546\n",
      "R^2: 0.999983358291959\n"
     ]
    }
   ],
   "source": [
    "# Split the data into training and testing sets\n",
    "X_train, X_test, y_train, y_test = train_test_split(X, y, test_size=0.2, random_state=42)\n",
    "\n",
    "# Create and train the model\n",
    "model = LinearRegression()\n",
    "model.fit(X_train, y_train)\n",
    "\n",
    "# Make predictions\n",
    "y_pred = model.predict(X_test)\n",
    "\n",
    "# Evaluate the model\n",
    "mse = mean_squared_error(y_test, y_pred)\n",
    "rmse = np.sqrt(mse)\n",
    "r2 = r2_score(y_test, y_pred)\n",
    "\n",
    "print(f'MSE: {mse}')\n",
    "print(f'RMSE: {rmse}')\n",
    "print(f'R^2: {r2}')\n"
   ]
  },
  {
   "cell_type": "code",
   "execution_count": null,
   "id": "b531aaf0-01fe-4a00-a354-fc7e7e1cc480",
   "metadata": {},
   "outputs": [],
   "source": []
  },
  {
   "cell_type": "code",
   "execution_count": null,
   "id": "2f38c506-bc5c-4365-aab4-90577eabf503",
   "metadata": {},
   "outputs": [],
   "source": []
  }
 ],
 "metadata": {
  "kernelspec": {
   "display_name": "Python 3 (ipykernel)",
   "language": "python",
   "name": "python3"
  },
  "language_info": {
   "codemirror_mode": {
    "name": "ipython",
    "version": 3
   },
   "file_extension": ".py",
   "mimetype": "text/x-python",
   "name": "python",
   "nbconvert_exporter": "python",
   "pygments_lexer": "ipython3",
   "version": "3.11.7"
  }
 },
 "nbformat": 4,
 "nbformat_minor": 5
}
